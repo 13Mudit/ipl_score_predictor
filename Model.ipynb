{
 "cells": [
  {
   "cell_type": "code",
   "execution_count": 1,
   "metadata": {},
   "outputs": [],
   "source": [
    "import matplotlib.pyplot as plt\n",
    "import numpy as np\n",
    "import pandas as pd"
   ]
  },
  {
   "cell_type": "code",
   "execution_count": 2,
   "metadata": {},
   "outputs": [
    {
     "name": "stdout",
     "output_type": "stream",
     "text": [
      "2.4.1\n"
     ]
    }
   ],
   "source": [
    "import tensorflow as tf\n",
    "\n",
    "from tensorflow import keras\n",
    "from tensorflow.keras import layers\n",
    "from tensorflow.keras.layers.experimental import preprocessing\n",
    "\n",
    "print(tf.__version__)"
   ]
  },
  {
   "cell_type": "code",
   "execution_count": 3,
   "metadata": {},
   "outputs": [],
   "source": [
    "def plot_loss(history):\n",
    "  plt.plot(history.history['loss'], label='loss')\n",
    "  plt.ylim([0, 10])\n",
    "  plt.xlabel('Epoch')\n",
    "  plt.ylabel('Error [MPG]')\n",
    "  plt.legend()\n",
    "  plt.grid(True)"
   ]
  },
  {
   "cell_type": "code",
   "execution_count": 4,
   "metadata": {},
   "outputs": [
    {
     "data": {
      "text/html": [
       "<div>\n",
       "<style scoped>\n",
       "    .dataframe tbody tr th:only-of-type {\n",
       "        vertical-align: middle;\n",
       "    }\n",
       "\n",
       "    .dataframe tbody tr th {\n",
       "        vertical-align: top;\n",
       "    }\n",
       "\n",
       "    .dataframe thead th {\n",
       "        text-align: right;\n",
       "    }\n",
       "</style>\n",
       "<table border=\"1\" class=\"dataframe\">\n",
       "  <thead>\n",
       "    <tr style=\"text-align: right;\">\n",
       "      <th></th>\n",
       "      <th>innings</th>\n",
       "      <th>ball</th>\n",
       "      <th>runs</th>\n",
       "      <th>venue_mean</th>\n",
       "      <th>count_batsmen</th>\n",
       "      <th>count_bowlers</th>\n",
       "      <th>batsmen_mean</th>\n",
       "      <th>bowlers_mean</th>\n",
       "    </tr>\n",
       "  </thead>\n",
       "  <tbody>\n",
       "    <tr>\n",
       "      <th>1619</th>\n",
       "      <td>2</td>\n",
       "      <td>5.6</td>\n",
       "      <td>49</td>\n",
       "      <td>38.333333</td>\n",
       "      <td>3</td>\n",
       "      <td>4</td>\n",
       "      <td>1.134776</td>\n",
       "      <td>1.268253</td>\n",
       "    </tr>\n",
       "    <tr>\n",
       "      <th>1620</th>\n",
       "      <td>1</td>\n",
       "      <td>5.6</td>\n",
       "      <td>39</td>\n",
       "      <td>45.503401</td>\n",
       "      <td>3</td>\n",
       "      <td>4</td>\n",
       "      <td>1.204281</td>\n",
       "      <td>1.168330</td>\n",
       "    </tr>\n",
       "    <tr>\n",
       "      <th>1621</th>\n",
       "      <td>2</td>\n",
       "      <td>5.6</td>\n",
       "      <td>45</td>\n",
       "      <td>45.503401</td>\n",
       "      <td>3</td>\n",
       "      <td>4</td>\n",
       "      <td>1.057421</td>\n",
       "      <td>1.296849</td>\n",
       "    </tr>\n",
       "    <tr>\n",
       "      <th>1622</th>\n",
       "      <td>1</td>\n",
       "      <td>5.6</td>\n",
       "      <td>36</td>\n",
       "      <td>46.406780</td>\n",
       "      <td>4</td>\n",
       "      <td>4</td>\n",
       "      <td>1.183557</td>\n",
       "      <td>1.343333</td>\n",
       "    </tr>\n",
       "    <tr>\n",
       "      <th>1623</th>\n",
       "      <td>2</td>\n",
       "      <td>5.6</td>\n",
       "      <td>40</td>\n",
       "      <td>46.406780</td>\n",
       "      <td>3</td>\n",
       "      <td>2</td>\n",
       "      <td>1.085704</td>\n",
       "      <td>1.370389</td>\n",
       "    </tr>\n",
       "  </tbody>\n",
       "</table>\n",
       "</div>"
      ],
      "text/plain": [
       "      innings  ball  runs  venue_mean  count_batsmen  count_bowlers  \\\n",
       "1619        2   5.6    49   38.333333              3              4   \n",
       "1620        1   5.6    39   45.503401              3              4   \n",
       "1621        2   5.6    45   45.503401              3              4   \n",
       "1622        1   5.6    36   46.406780              4              4   \n",
       "1623        2   5.6    40   46.406780              3              2   \n",
       "\n",
       "      batsmen_mean  bowlers_mean  \n",
       "1619      1.134776      1.268253  \n",
       "1620      1.204281      1.168330  \n",
       "1621      1.057421      1.296849  \n",
       "1622      1.183557      1.343333  \n",
       "1623      1.085704      1.370389  "
      ]
     },
     "execution_count": 4,
     "metadata": {},
     "output_type": "execute_result"
    }
   ],
   "source": [
    "raw_dataset = pd.read_csv(\"all_matches_numeric.csv\")\n",
    "\n",
    "dataset = raw_dataset.copy()\n",
    "dataset.tail()\n",
    "\n"
   ]
  },
  {
   "cell_type": "code",
   "execution_count": 36,
   "metadata": {},
   "outputs": [],
   "source": [
    "number_sample = len(dataset)\n",
    "train_dataset = dataset[:int(0.8*number_sample)]\n",
    "test_dataset = dataset[int(0.8*number_sample):]"
   ]
  },
  {
   "cell_type": "code",
   "execution_count": 37,
   "metadata": {},
   "outputs": [],
   "source": [
    "train_features = train_dataset.copy()\n",
    "test_features = test_dataset.copy()\n",
    "\n",
    "train_labels = train_features.pop('runs')\n",
    "test_labels = test_features.pop('runs')"
   ]
  },
  {
   "cell_type": "code",
   "execution_count": 38,
   "metadata": {},
   "outputs": [],
   "source": [
    "normalizer = preprocessing.Normalization()\n",
    "normalizer.adapt(np.array(train_features))"
   ]
  },
  {
   "cell_type": "code",
   "execution_count": 98,
   "metadata": {},
   "outputs": [],
   "source": [
    "def build_and_compile_model(norm):\n",
    "  model = keras.Sequential([\n",
    "      norm,\n",
    "      layers.Dense(64, activation='relu'),\n",
    "      layers.Dense(64, activation='relu'),\n",
    "      layers.Dense(1)\n",
    "  ])\n",
    "\n",
    "  model.compile(loss='mean_absolute_error',\n",
    "                optimizer=tf.keras.optimizers.Adam(0.001))\n",
    "  return model"
   ]
  },
  {
   "cell_type": "code",
   "execution_count": 140,
   "metadata": {},
   "outputs": [],
   "source": [
    "dnn_model = build_and_compile_model(normalizer)"
   ]
  },
  {
   "cell_type": "code",
   "execution_count": 141,
   "metadata": {},
   "outputs": [
    {
     "name": "stdout",
     "output_type": "stream",
     "text": [
      "Epoch 1/30\n",
      "41/41 - 0s - loss: 44.7978\n",
      "Epoch 2/30\n",
      "41/41 - 0s - loss: 38.4415\n",
      "Epoch 3/30\n",
      "41/41 - 0s - loss: 22.6225\n",
      "Epoch 4/30\n",
      "41/41 - 0s - loss: 10.5558\n",
      "Epoch 5/30\n",
      "41/41 - 0s - loss: 9.7181\n",
      "Epoch 6/30\n",
      "41/41 - 0s - loss: 9.2424\n",
      "Epoch 7/30\n",
      "41/41 - 0s - loss: 8.9165\n",
      "Epoch 8/30\n",
      "41/41 - 0s - loss: 8.6878\n",
      "Epoch 9/30\n",
      "41/41 - 0s - loss: 8.4695\n",
      "Epoch 10/30\n",
      "41/41 - 0s - loss: 8.3019\n",
      "Epoch 11/30\n",
      "41/41 - 0s - loss: 8.1883\n",
      "Epoch 12/30\n",
      "41/41 - 0s - loss: 8.0464\n",
      "Epoch 13/30\n",
      "41/41 - 0s - loss: 7.9485\n",
      "Epoch 14/30\n",
      "41/41 - 0s - loss: 7.8883\n",
      "Epoch 15/30\n",
      "41/41 - 0s - loss: 7.7813\n",
      "Epoch 16/30\n",
      "41/41 - 0s - loss: 7.7090\n",
      "Epoch 17/30\n",
      "41/41 - 0s - loss: 7.6790\n",
      "Epoch 18/30\n",
      "41/41 - 0s - loss: 7.6135\n",
      "Epoch 19/30\n",
      "41/41 - 0s - loss: 7.5733\n",
      "Epoch 20/30\n",
      "41/41 - 0s - loss: 7.5321\n",
      "Epoch 21/30\n",
      "41/41 - 0s - loss: 7.5307\n",
      "Epoch 22/30\n",
      "41/41 - 0s - loss: 7.4937\n",
      "Epoch 23/30\n",
      "41/41 - 0s - loss: 7.4913\n",
      "Epoch 24/30\n",
      "41/41 - 0s - loss: 7.4410\n",
      "Epoch 25/30\n",
      "41/41 - 0s - loss: 7.3808\n",
      "Epoch 26/30\n",
      "41/41 - 0s - loss: 7.3652\n",
      "Epoch 27/30\n",
      "41/41 - 0s - loss: 7.3535\n",
      "Epoch 28/30\n",
      "41/41 - 0s - loss: 7.3242\n",
      "Epoch 29/30\n",
      "41/41 - 0s - loss: 7.3124\n",
      "Epoch 30/30\n",
      "41/41 - 0s - loss: 7.3266\n",
      "Wall time: 1.17 s\n"
     ]
    }
   ],
   "source": [
    "%%time\n",
    "history = dnn_model.fit(\n",
    "    train_features, train_labels,\n",
    "    verbose=2, epochs=30)"
   ]
  },
  {
   "cell_type": "code",
   "execution_count": 142,
   "metadata": {},
   "outputs": [
    {
     "data": {
      "image/png": "[encoded data removed]",
      "text/plain": [
       "<Figure size 432x288 with 1 Axes>"
      ]
     },
     "metadata": {
      "needs_background": "light"
     },
     "output_type": "display_data"
    }
   ],
   "source": [
    "plot_loss(history)"
   ]
  },
  {
   "cell_type": "code",
   "execution_count": 143,
   "metadata": {},
   "outputs": [
    {
     "name": "stdout",
     "output_type": "stream",
     "text": [
      "11/11 - 0s - loss: 8.1634\n"
     ]
    }
   ],
   "source": [
    "test_results = {}\n",
    "\n",
    "test_results['dnn_model'] = dnn_model.evaluate(\n",
    "    test_features,\n",
    "    test_labels, verbose=2)"
   ]
  },
  {
   "cell_type": "code",
   "execution_count": 145,
   "metadata": {},
   "outputs": [
    {
     "name": "stdout",
     "output_type": "stream",
     "text": [
      "11/11 - 0s - loss: 8.1634\n"
     ]
    }
   ],
   "source": [
    "test_results['dnn_model'] = dnn_model.evaluate(test_features, test_labels, verbose=2)"
   ]
  },
  {
   "cell_type": "code",
   "execution_count": 146,
   "metadata": {},
   "outputs": [
    {
     "name": "stdout",
     "output_type": "stream",
     "text": [
      "INFO:tensorflow:Assets written to: dnn_model\\assets\n"
     ]
    }
   ],
   "source": [
    "dnn_model.save('dnn_model')"
   ]
  },
  {
   "cell_type": "code",
   "execution_count": null,
   "metadata": {},
   "outputs": [],
   "source": []
  }
 ],
 "metadata": {
  "kernelspec": {
   "display_name": "Python 3",
   "language": "python",
   "name": "python3"
  },
  "language_info": {
   "codemirror_mode": {
    "name": "ipython",
    "version": 3
   },
   "file_extension": ".py",
   "mimetype": "text/x-python",
   "name": "python",
   "nbconvert_exporter": "python",
   "pygments_lexer": "ipython3",
   "version": "3.8.7"
  }
 },
 "nbformat": 4,
 "nbformat_minor": 4
}
